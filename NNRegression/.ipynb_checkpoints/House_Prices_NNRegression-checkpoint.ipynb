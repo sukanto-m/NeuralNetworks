{
 "cells": [
  {
   "cell_type": "code",
   "execution_count": 1,
   "metadata": {},
   "outputs": [
    {
     "name": "stderr",
     "output_type": "stream",
     "text": [
      "/opt/anaconda3/lib/python3.8/site-packages/pandas/core/computation/expressions.py:20: UserWarning: Pandas requires version '2.7.3' or newer of 'numexpr' (version '2.7.1' currently installed).\n",
      "  from pandas.core.computation.check import NUMEXPR_INSTALLED\n"
     ]
    }
   ],
   "source": [
    "from neuralnet import NeuralNet\n",
    "import pandas as pd\n",
    "import numpy as np\n",
    "import matplotlib.pyplot as plt\n",
    "from sklearn.preprocessing import StandardScaler\n",
    "from sklearn.model_selection import train_test_split"
   ]
  },
  {
   "cell_type": "code",
   "execution_count": 2,
   "metadata": {},
   "outputs": [
    {
     "data": {
      "text/html": [
       "<div>\n",
       "<style scoped>\n",
       "    .dataframe tbody tr th:only-of-type {\n",
       "        vertical-align: middle;\n",
       "    }\n",
       "\n",
       "    .dataframe tbody tr th {\n",
       "        vertical-align: top;\n",
       "    }\n",
       "\n",
       "    .dataframe thead th {\n",
       "        text-align: right;\n",
       "    }\n",
       "</style>\n",
       "<table border=\"1\" class=\"dataframe\">\n",
       "  <thead>\n",
       "    <tr style=\"text-align: right;\">\n",
       "      <th></th>\n",
       "      <th>Id</th>\n",
       "      <th>MSSubClass</th>\n",
       "      <th>MSZoning</th>\n",
       "      <th>LotFrontage</th>\n",
       "      <th>LotArea</th>\n",
       "      <th>Street</th>\n",
       "      <th>Alley</th>\n",
       "      <th>LotShape</th>\n",
       "      <th>LandContour</th>\n",
       "      <th>Utilities</th>\n",
       "      <th>...</th>\n",
       "      <th>PoolArea</th>\n",
       "      <th>PoolQC</th>\n",
       "      <th>Fence</th>\n",
       "      <th>MiscFeature</th>\n",
       "      <th>MiscVal</th>\n",
       "      <th>MoSold</th>\n",
       "      <th>YrSold</th>\n",
       "      <th>SaleType</th>\n",
       "      <th>SaleCondition</th>\n",
       "      <th>SalePrice</th>\n",
       "    </tr>\n",
       "  </thead>\n",
       "  <tbody>\n",
       "    <tr>\n",
       "      <th>0</th>\n",
       "      <td>1</td>\n",
       "      <td>60</td>\n",
       "      <td>RL</td>\n",
       "      <td>65.0</td>\n",
       "      <td>8450</td>\n",
       "      <td>Pave</td>\n",
       "      <td>NaN</td>\n",
       "      <td>Reg</td>\n",
       "      <td>Lvl</td>\n",
       "      <td>AllPub</td>\n",
       "      <td>...</td>\n",
       "      <td>0</td>\n",
       "      <td>NaN</td>\n",
       "      <td>NaN</td>\n",
       "      <td>NaN</td>\n",
       "      <td>0</td>\n",
       "      <td>2</td>\n",
       "      <td>2008</td>\n",
       "      <td>WD</td>\n",
       "      <td>Normal</td>\n",
       "      <td>208500</td>\n",
       "    </tr>\n",
       "    <tr>\n",
       "      <th>1</th>\n",
       "      <td>2</td>\n",
       "      <td>20</td>\n",
       "      <td>RL</td>\n",
       "      <td>80.0</td>\n",
       "      <td>9600</td>\n",
       "      <td>Pave</td>\n",
       "      <td>NaN</td>\n",
       "      <td>Reg</td>\n",
       "      <td>Lvl</td>\n",
       "      <td>AllPub</td>\n",
       "      <td>...</td>\n",
       "      <td>0</td>\n",
       "      <td>NaN</td>\n",
       "      <td>NaN</td>\n",
       "      <td>NaN</td>\n",
       "      <td>0</td>\n",
       "      <td>5</td>\n",
       "      <td>2007</td>\n",
       "      <td>WD</td>\n",
       "      <td>Normal</td>\n",
       "      <td>181500</td>\n",
       "    </tr>\n",
       "    <tr>\n",
       "      <th>2</th>\n",
       "      <td>3</td>\n",
       "      <td>60</td>\n",
       "      <td>RL</td>\n",
       "      <td>68.0</td>\n",
       "      <td>11250</td>\n",
       "      <td>Pave</td>\n",
       "      <td>NaN</td>\n",
       "      <td>IR1</td>\n",
       "      <td>Lvl</td>\n",
       "      <td>AllPub</td>\n",
       "      <td>...</td>\n",
       "      <td>0</td>\n",
       "      <td>NaN</td>\n",
       "      <td>NaN</td>\n",
       "      <td>NaN</td>\n",
       "      <td>0</td>\n",
       "      <td>9</td>\n",
       "      <td>2008</td>\n",
       "      <td>WD</td>\n",
       "      <td>Normal</td>\n",
       "      <td>223500</td>\n",
       "    </tr>\n",
       "    <tr>\n",
       "      <th>3</th>\n",
       "      <td>4</td>\n",
       "      <td>70</td>\n",
       "      <td>RL</td>\n",
       "      <td>60.0</td>\n",
       "      <td>9550</td>\n",
       "      <td>Pave</td>\n",
       "      <td>NaN</td>\n",
       "      <td>IR1</td>\n",
       "      <td>Lvl</td>\n",
       "      <td>AllPub</td>\n",
       "      <td>...</td>\n",
       "      <td>0</td>\n",
       "      <td>NaN</td>\n",
       "      <td>NaN</td>\n",
       "      <td>NaN</td>\n",
       "      <td>0</td>\n",
       "      <td>2</td>\n",
       "      <td>2006</td>\n",
       "      <td>WD</td>\n",
       "      <td>Abnorml</td>\n",
       "      <td>140000</td>\n",
       "    </tr>\n",
       "    <tr>\n",
       "      <th>4</th>\n",
       "      <td>5</td>\n",
       "      <td>60</td>\n",
       "      <td>RL</td>\n",
       "      <td>84.0</td>\n",
       "      <td>14260</td>\n",
       "      <td>Pave</td>\n",
       "      <td>NaN</td>\n",
       "      <td>IR1</td>\n",
       "      <td>Lvl</td>\n",
       "      <td>AllPub</td>\n",
       "      <td>...</td>\n",
       "      <td>0</td>\n",
       "      <td>NaN</td>\n",
       "      <td>NaN</td>\n",
       "      <td>NaN</td>\n",
       "      <td>0</td>\n",
       "      <td>12</td>\n",
       "      <td>2008</td>\n",
       "      <td>WD</td>\n",
       "      <td>Normal</td>\n",
       "      <td>250000</td>\n",
       "    </tr>\n",
       "  </tbody>\n",
       "</table>\n",
       "<p>5 rows × 81 columns</p>\n",
       "</div>"
      ],
      "text/plain": [
       "   Id  MSSubClass MSZoning  LotFrontage  LotArea Street Alley LotShape  \\\n",
       "0   1          60       RL         65.0     8450   Pave   NaN      Reg   \n",
       "1   2          20       RL         80.0     9600   Pave   NaN      Reg   \n",
       "2   3          60       RL         68.0    11250   Pave   NaN      IR1   \n",
       "3   4          70       RL         60.0     9550   Pave   NaN      IR1   \n",
       "4   5          60       RL         84.0    14260   Pave   NaN      IR1   \n",
       "\n",
       "  LandContour Utilities  ... PoolArea PoolQC Fence MiscFeature MiscVal MoSold  \\\n",
       "0         Lvl    AllPub  ...        0    NaN   NaN         NaN       0      2   \n",
       "1         Lvl    AllPub  ...        0    NaN   NaN         NaN       0      5   \n",
       "2         Lvl    AllPub  ...        0    NaN   NaN         NaN       0      9   \n",
       "3         Lvl    AllPub  ...        0    NaN   NaN         NaN       0      2   \n",
       "4         Lvl    AllPub  ...        0    NaN   NaN         NaN       0     12   \n",
       "\n",
       "  YrSold  SaleType  SaleCondition  SalePrice  \n",
       "0   2008        WD         Normal     208500  \n",
       "1   2007        WD         Normal     181500  \n",
       "2   2008        WD         Normal     223500  \n",
       "3   2006        WD        Abnorml     140000  \n",
       "4   2008        WD         Normal     250000  \n",
       "\n",
       "[5 rows x 81 columns]"
      ]
     },
     "execution_count": 2,
     "metadata": {},
     "output_type": "execute_result"
    }
   ],
   "source": [
    "train = pd.read_csv('train.csv')\n",
    "test = pd.read_csv('test.csv')\n",
    "train.head()"
   ]
  },
  {
   "cell_type": "code",
   "execution_count": 3,
   "metadata": {
    "scrolled": true
   },
   "outputs": [
    {
     "data": {
      "text/html": [
       "<div>\n",
       "<style scoped>\n",
       "    .dataframe tbody tr th:only-of-type {\n",
       "        vertical-align: middle;\n",
       "    }\n",
       "\n",
       "    .dataframe tbody tr th {\n",
       "        vertical-align: top;\n",
       "    }\n",
       "\n",
       "    .dataframe thead th {\n",
       "        text-align: right;\n",
       "    }\n",
       "</style>\n",
       "<table border=\"1\" class=\"dataframe\">\n",
       "  <thead>\n",
       "    <tr style=\"text-align: right;\">\n",
       "      <th></th>\n",
       "      <th>Id</th>\n",
       "      <th>MSSubClass</th>\n",
       "      <th>LotFrontage</th>\n",
       "      <th>LotArea</th>\n",
       "      <th>OverallQual</th>\n",
       "      <th>OverallCond</th>\n",
       "      <th>YearBuilt</th>\n",
       "      <th>YearRemodAdd</th>\n",
       "      <th>MasVnrArea</th>\n",
       "      <th>BsmtFinSF1</th>\n",
       "      <th>...</th>\n",
       "      <th>WoodDeckSF</th>\n",
       "      <th>OpenPorchSF</th>\n",
       "      <th>EnclosedPorch</th>\n",
       "      <th>3SsnPorch</th>\n",
       "      <th>ScreenPorch</th>\n",
       "      <th>PoolArea</th>\n",
       "      <th>MiscVal</th>\n",
       "      <th>MoSold</th>\n",
       "      <th>YrSold</th>\n",
       "      <th>SalePrice</th>\n",
       "    </tr>\n",
       "  </thead>\n",
       "  <tbody>\n",
       "    <tr>\n",
       "      <th>count</th>\n",
       "      <td>1460.000000</td>\n",
       "      <td>1460.000000</td>\n",
       "      <td>1201.000000</td>\n",
       "      <td>1460.000000</td>\n",
       "      <td>1460.000000</td>\n",
       "      <td>1460.000000</td>\n",
       "      <td>1460.000000</td>\n",
       "      <td>1460.000000</td>\n",
       "      <td>1452.000000</td>\n",
       "      <td>1460.000000</td>\n",
       "      <td>...</td>\n",
       "      <td>1460.000000</td>\n",
       "      <td>1460.000000</td>\n",
       "      <td>1460.000000</td>\n",
       "      <td>1460.000000</td>\n",
       "      <td>1460.000000</td>\n",
       "      <td>1460.000000</td>\n",
       "      <td>1460.000000</td>\n",
       "      <td>1460.000000</td>\n",
       "      <td>1460.000000</td>\n",
       "      <td>1460.000000</td>\n",
       "    </tr>\n",
       "    <tr>\n",
       "      <th>mean</th>\n",
       "      <td>730.500000</td>\n",
       "      <td>56.897260</td>\n",
       "      <td>70.049958</td>\n",
       "      <td>10516.828082</td>\n",
       "      <td>6.099315</td>\n",
       "      <td>5.575342</td>\n",
       "      <td>1971.267808</td>\n",
       "      <td>1984.865753</td>\n",
       "      <td>103.685262</td>\n",
       "      <td>443.639726</td>\n",
       "      <td>...</td>\n",
       "      <td>94.244521</td>\n",
       "      <td>46.660274</td>\n",
       "      <td>21.954110</td>\n",
       "      <td>3.409589</td>\n",
       "      <td>15.060959</td>\n",
       "      <td>2.758904</td>\n",
       "      <td>43.489041</td>\n",
       "      <td>6.321918</td>\n",
       "      <td>2007.815753</td>\n",
       "      <td>180921.195890</td>\n",
       "    </tr>\n",
       "    <tr>\n",
       "      <th>std</th>\n",
       "      <td>421.610009</td>\n",
       "      <td>42.300571</td>\n",
       "      <td>24.284752</td>\n",
       "      <td>9981.264932</td>\n",
       "      <td>1.382997</td>\n",
       "      <td>1.112799</td>\n",
       "      <td>30.202904</td>\n",
       "      <td>20.645407</td>\n",
       "      <td>181.066207</td>\n",
       "      <td>456.098091</td>\n",
       "      <td>...</td>\n",
       "      <td>125.338794</td>\n",
       "      <td>66.256028</td>\n",
       "      <td>61.119149</td>\n",
       "      <td>29.317331</td>\n",
       "      <td>55.757415</td>\n",
       "      <td>40.177307</td>\n",
       "      <td>496.123024</td>\n",
       "      <td>2.703626</td>\n",
       "      <td>1.328095</td>\n",
       "      <td>79442.502883</td>\n",
       "    </tr>\n",
       "    <tr>\n",
       "      <th>min</th>\n",
       "      <td>1.000000</td>\n",
       "      <td>20.000000</td>\n",
       "      <td>21.000000</td>\n",
       "      <td>1300.000000</td>\n",
       "      <td>1.000000</td>\n",
       "      <td>1.000000</td>\n",
       "      <td>1872.000000</td>\n",
       "      <td>1950.000000</td>\n",
       "      <td>0.000000</td>\n",
       "      <td>0.000000</td>\n",
       "      <td>...</td>\n",
       "      <td>0.000000</td>\n",
       "      <td>0.000000</td>\n",
       "      <td>0.000000</td>\n",
       "      <td>0.000000</td>\n",
       "      <td>0.000000</td>\n",
       "      <td>0.000000</td>\n",
       "      <td>0.000000</td>\n",
       "      <td>1.000000</td>\n",
       "      <td>2006.000000</td>\n",
       "      <td>34900.000000</td>\n",
       "    </tr>\n",
       "    <tr>\n",
       "      <th>25%</th>\n",
       "      <td>365.750000</td>\n",
       "      <td>20.000000</td>\n",
       "      <td>59.000000</td>\n",
       "      <td>7553.500000</td>\n",
       "      <td>5.000000</td>\n",
       "      <td>5.000000</td>\n",
       "      <td>1954.000000</td>\n",
       "      <td>1967.000000</td>\n",
       "      <td>0.000000</td>\n",
       "      <td>0.000000</td>\n",
       "      <td>...</td>\n",
       "      <td>0.000000</td>\n",
       "      <td>0.000000</td>\n",
       "      <td>0.000000</td>\n",
       "      <td>0.000000</td>\n",
       "      <td>0.000000</td>\n",
       "      <td>0.000000</td>\n",
       "      <td>0.000000</td>\n",
       "      <td>5.000000</td>\n",
       "      <td>2007.000000</td>\n",
       "      <td>129975.000000</td>\n",
       "    </tr>\n",
       "    <tr>\n",
       "      <th>50%</th>\n",
       "      <td>730.500000</td>\n",
       "      <td>50.000000</td>\n",
       "      <td>69.000000</td>\n",
       "      <td>9478.500000</td>\n",
       "      <td>6.000000</td>\n",
       "      <td>5.000000</td>\n",
       "      <td>1973.000000</td>\n",
       "      <td>1994.000000</td>\n",
       "      <td>0.000000</td>\n",
       "      <td>383.500000</td>\n",
       "      <td>...</td>\n",
       "      <td>0.000000</td>\n",
       "      <td>25.000000</td>\n",
       "      <td>0.000000</td>\n",
       "      <td>0.000000</td>\n",
       "      <td>0.000000</td>\n",
       "      <td>0.000000</td>\n",
       "      <td>0.000000</td>\n",
       "      <td>6.000000</td>\n",
       "      <td>2008.000000</td>\n",
       "      <td>163000.000000</td>\n",
       "    </tr>\n",
       "    <tr>\n",
       "      <th>75%</th>\n",
       "      <td>1095.250000</td>\n",
       "      <td>70.000000</td>\n",
       "      <td>80.000000</td>\n",
       "      <td>11601.500000</td>\n",
       "      <td>7.000000</td>\n",
       "      <td>6.000000</td>\n",
       "      <td>2000.000000</td>\n",
       "      <td>2004.000000</td>\n",
       "      <td>166.000000</td>\n",
       "      <td>712.250000</td>\n",
       "      <td>...</td>\n",
       "      <td>168.000000</td>\n",
       "      <td>68.000000</td>\n",
       "      <td>0.000000</td>\n",
       "      <td>0.000000</td>\n",
       "      <td>0.000000</td>\n",
       "      <td>0.000000</td>\n",
       "      <td>0.000000</td>\n",
       "      <td>8.000000</td>\n",
       "      <td>2009.000000</td>\n",
       "      <td>214000.000000</td>\n",
       "    </tr>\n",
       "    <tr>\n",
       "      <th>max</th>\n",
       "      <td>1460.000000</td>\n",
       "      <td>190.000000</td>\n",
       "      <td>313.000000</td>\n",
       "      <td>215245.000000</td>\n",
       "      <td>10.000000</td>\n",
       "      <td>9.000000</td>\n",
       "      <td>2010.000000</td>\n",
       "      <td>2010.000000</td>\n",
       "      <td>1600.000000</td>\n",
       "      <td>5644.000000</td>\n",
       "      <td>...</td>\n",
       "      <td>857.000000</td>\n",
       "      <td>547.000000</td>\n",
       "      <td>552.000000</td>\n",
       "      <td>508.000000</td>\n",
       "      <td>480.000000</td>\n",
       "      <td>738.000000</td>\n",
       "      <td>15500.000000</td>\n",
       "      <td>12.000000</td>\n",
       "      <td>2010.000000</td>\n",
       "      <td>755000.000000</td>\n",
       "    </tr>\n",
       "  </tbody>\n",
       "</table>\n",
       "<p>8 rows × 38 columns</p>\n",
       "</div>"
      ],
      "text/plain": [
       "                Id   MSSubClass  LotFrontage        LotArea  OverallQual  \\\n",
       "count  1460.000000  1460.000000  1201.000000    1460.000000  1460.000000   \n",
       "mean    730.500000    56.897260    70.049958   10516.828082     6.099315   \n",
       "std     421.610009    42.300571    24.284752    9981.264932     1.382997   \n",
       "min       1.000000    20.000000    21.000000    1300.000000     1.000000   \n",
       "25%     365.750000    20.000000    59.000000    7553.500000     5.000000   \n",
       "50%     730.500000    50.000000    69.000000    9478.500000     6.000000   \n",
       "75%    1095.250000    70.000000    80.000000   11601.500000     7.000000   \n",
       "max    1460.000000   190.000000   313.000000  215245.000000    10.000000   \n",
       "\n",
       "       OverallCond    YearBuilt  YearRemodAdd   MasVnrArea   BsmtFinSF1  ...  \\\n",
       "count  1460.000000  1460.000000   1460.000000  1452.000000  1460.000000  ...   \n",
       "mean      5.575342  1971.267808   1984.865753   103.685262   443.639726  ...   \n",
       "std       1.112799    30.202904     20.645407   181.066207   456.098091  ...   \n",
       "min       1.000000  1872.000000   1950.000000     0.000000     0.000000  ...   \n",
       "25%       5.000000  1954.000000   1967.000000     0.000000     0.000000  ...   \n",
       "50%       5.000000  1973.000000   1994.000000     0.000000   383.500000  ...   \n",
       "75%       6.000000  2000.000000   2004.000000   166.000000   712.250000  ...   \n",
       "max       9.000000  2010.000000   2010.000000  1600.000000  5644.000000  ...   \n",
       "\n",
       "        WoodDeckSF  OpenPorchSF  EnclosedPorch    3SsnPorch  ScreenPorch  \\\n",
       "count  1460.000000  1460.000000    1460.000000  1460.000000  1460.000000   \n",
       "mean     94.244521    46.660274      21.954110     3.409589    15.060959   \n",
       "std     125.338794    66.256028      61.119149    29.317331    55.757415   \n",
       "min       0.000000     0.000000       0.000000     0.000000     0.000000   \n",
       "25%       0.000000     0.000000       0.000000     0.000000     0.000000   \n",
       "50%       0.000000    25.000000       0.000000     0.000000     0.000000   \n",
       "75%     168.000000    68.000000       0.000000     0.000000     0.000000   \n",
       "max     857.000000   547.000000     552.000000   508.000000   480.000000   \n",
       "\n",
       "          PoolArea       MiscVal       MoSold       YrSold      SalePrice  \n",
       "count  1460.000000   1460.000000  1460.000000  1460.000000    1460.000000  \n",
       "mean      2.758904     43.489041     6.321918  2007.815753  180921.195890  \n",
       "std      40.177307    496.123024     2.703626     1.328095   79442.502883  \n",
       "min       0.000000      0.000000     1.000000  2006.000000   34900.000000  \n",
       "25%       0.000000      0.000000     5.000000  2007.000000  129975.000000  \n",
       "50%       0.000000      0.000000     6.000000  2008.000000  163000.000000  \n",
       "75%       0.000000      0.000000     8.000000  2009.000000  214000.000000  \n",
       "max     738.000000  15500.000000    12.000000  2010.000000  755000.000000  \n",
       "\n",
       "[8 rows x 38 columns]"
      ]
     },
     "execution_count": 3,
     "metadata": {},
     "output_type": "execute_result"
    }
   ],
   "source": [
    "train.describe(include=np.number)"
   ]
  },
  {
   "cell_type": "code",
   "execution_count": 4,
   "metadata": {
    "scrolled": true
   },
   "outputs": [
    {
     "data": {
      "text/plain": [
       "Index(['Id', 'MSSubClass', 'MSZoning', 'LotFrontage', 'LotArea', 'Street',\n",
       "       'Alley', 'LotShape', 'LandContour', 'Utilities', 'LotConfig',\n",
       "       'LandSlope', 'Neighborhood', 'Condition1', 'Condition2', 'BldgType',\n",
       "       'HouseStyle', 'OverallQual', 'OverallCond', 'YearBuilt', 'YearRemodAdd',\n",
       "       'RoofStyle', 'RoofMatl', 'Exterior1st', 'Exterior2nd', 'MasVnrType',\n",
       "       'MasVnrArea', 'ExterQual', 'ExterCond', 'Foundation', 'BsmtQual',\n",
       "       'BsmtCond', 'BsmtExposure', 'BsmtFinType1', 'BsmtFinSF1',\n",
       "       'BsmtFinType2', 'BsmtFinSF2', 'BsmtUnfSF', 'TotalBsmtSF', 'Heating',\n",
       "       'HeatingQC', 'CentralAir', 'Electrical', '1stFlrSF', '2ndFlrSF',\n",
       "       'LowQualFinSF', 'GrLivArea', 'BsmtFullBath', 'BsmtHalfBath', 'FullBath',\n",
       "       'HalfBath', 'BedroomAbvGr', 'KitchenAbvGr', 'KitchenQual',\n",
       "       'TotRmsAbvGrd', 'Functional', 'Fireplaces', 'FireplaceQu', 'GarageType',\n",
       "       'GarageYrBlt', 'GarageFinish', 'GarageCars', 'GarageArea', 'GarageQual',\n",
       "       'GarageCond', 'PavedDrive', 'WoodDeckSF', 'OpenPorchSF',\n",
       "       'EnclosedPorch', '3SsnPorch', 'ScreenPorch', 'PoolArea', 'PoolQC',\n",
       "       'Fence', 'MiscFeature', 'MiscVal', 'MoSold', 'YrSold', 'SaleType',\n",
       "       'SaleCondition', 'SalePrice'],\n",
       "      dtype='object')"
      ]
     },
     "execution_count": 4,
     "metadata": {},
     "output_type": "execute_result"
    }
   ],
   "source": [
    "train.columns"
   ]
  },
  {
   "cell_type": "code",
   "execution_count": 5,
   "metadata": {},
   "outputs": [
    {
     "data": {
      "text/plain": [
       "<matplotlib.axes._subplots.AxesSubplot at 0x7f8b96e117c0>"
      ]
     },
     "execution_count": 5,
     "metadata": {},
     "output_type": "execute_result"
    },
    {
     "data": {
      "image/png": "[encoded data removed]",
      "text/plain": [
       "<Figure size 432x288 with 1 Axes>"
      ]
     },
     "metadata": {
      "needs_background": "light"
     },
     "output_type": "display_data"
    }
   ],
   "source": [
    "train['SalePrice'].hist()"
   ]
  },
  {
   "cell_type": "code",
   "execution_count": 6,
   "metadata": {
    "scrolled": true
   },
   "outputs": [
    {
     "data": {
      "text/plain": [
       "<matplotlib.axes._subplots.AxesSubplot at 0x7f8b9fb2c9a0>"
      ]
     },
     "execution_count": 6,
     "metadata": {},
     "output_type": "execute_result"
    },
    {
     "data": {
      "image/png": "[encoded data removed]",
      "text/plain": [
       "<Figure size 432x288 with 1 Axes>"
      ]
     },
     "metadata": {
      "needs_background": "light"
     },
     "output_type": "display_data"
    }
   ],
   "source": [
    "train['LotArea'].hist()"
   ]
  },
  {
   "cell_type": "code",
   "execution_count": 7,
   "metadata": {
    "scrolled": true
   },
   "outputs": [
    {
     "data": {
      "text/html": [
       "<div>\n",
       "<style scoped>\n",
       "    .dataframe tbody tr th:only-of-type {\n",
       "        vertical-align: middle;\n",
       "    }\n",
       "\n",
       "    .dataframe tbody tr th {\n",
       "        vertical-align: top;\n",
       "    }\n",
       "\n",
       "    .dataframe thead th {\n",
       "        text-align: right;\n",
       "    }\n",
       "</style>\n",
       "<table border=\"1\" class=\"dataframe\">\n",
       "  <thead>\n",
       "    <tr style=\"text-align: right;\">\n",
       "      <th></th>\n",
       "      <th>Id</th>\n",
       "      <th>MSSubClass</th>\n",
       "      <th>MSZoning</th>\n",
       "      <th>LotFrontage</th>\n",
       "      <th>LotArea</th>\n",
       "      <th>Street</th>\n",
       "      <th>Alley</th>\n",
       "      <th>LotShape</th>\n",
       "      <th>LandContour</th>\n",
       "      <th>Utilities</th>\n",
       "      <th>...</th>\n",
       "      <th>ScreenPorch</th>\n",
       "      <th>PoolArea</th>\n",
       "      <th>PoolQC</th>\n",
       "      <th>Fence</th>\n",
       "      <th>MiscFeature</th>\n",
       "      <th>MiscVal</th>\n",
       "      <th>MoSold</th>\n",
       "      <th>YrSold</th>\n",
       "      <th>SaleType</th>\n",
       "      <th>SaleCondition</th>\n",
       "    </tr>\n",
       "  </thead>\n",
       "  <tbody>\n",
       "    <tr>\n",
       "      <th>0</th>\n",
       "      <td>1461</td>\n",
       "      <td>20</td>\n",
       "      <td>RH</td>\n",
       "      <td>80.0</td>\n",
       "      <td>11622</td>\n",
       "      <td>Pave</td>\n",
       "      <td>NaN</td>\n",
       "      <td>Reg</td>\n",
       "      <td>Lvl</td>\n",
       "      <td>AllPub</td>\n",
       "      <td>...</td>\n",
       "      <td>120</td>\n",
       "      <td>0</td>\n",
       "      <td>NaN</td>\n",
       "      <td>MnPrv</td>\n",
       "      <td>NaN</td>\n",
       "      <td>0</td>\n",
       "      <td>6</td>\n",
       "      <td>2010</td>\n",
       "      <td>WD</td>\n",
       "      <td>Normal</td>\n",
       "    </tr>\n",
       "    <tr>\n",
       "      <th>1</th>\n",
       "      <td>1462</td>\n",
       "      <td>20</td>\n",
       "      <td>RL</td>\n",
       "      <td>81.0</td>\n",
       "      <td>14267</td>\n",
       "      <td>Pave</td>\n",
       "      <td>NaN</td>\n",
       "      <td>IR1</td>\n",
       "      <td>Lvl</td>\n",
       "      <td>AllPub</td>\n",
       "      <td>...</td>\n",
       "      <td>0</td>\n",
       "      <td>0</td>\n",
       "      <td>NaN</td>\n",
       "      <td>NaN</td>\n",
       "      <td>Gar2</td>\n",
       "      <td>12500</td>\n",
       "      <td>6</td>\n",
       "      <td>2010</td>\n",
       "      <td>WD</td>\n",
       "      <td>Normal</td>\n",
       "    </tr>\n",
       "    <tr>\n",
       "      <th>2</th>\n",
       "      <td>1463</td>\n",
       "      <td>60</td>\n",
       "      <td>RL</td>\n",
       "      <td>74.0</td>\n",
       "      <td>13830</td>\n",
       "      <td>Pave</td>\n",
       "      <td>NaN</td>\n",
       "      <td>IR1</td>\n",
       "      <td>Lvl</td>\n",
       "      <td>AllPub</td>\n",
       "      <td>...</td>\n",
       "      <td>0</td>\n",
       "      <td>0</td>\n",
       "      <td>NaN</td>\n",
       "      <td>MnPrv</td>\n",
       "      <td>NaN</td>\n",
       "      <td>0</td>\n",
       "      <td>3</td>\n",
       "      <td>2010</td>\n",
       "      <td>WD</td>\n",
       "      <td>Normal</td>\n",
       "    </tr>\n",
       "    <tr>\n",
       "      <th>3</th>\n",
       "      <td>1464</td>\n",
       "      <td>60</td>\n",
       "      <td>RL</td>\n",
       "      <td>78.0</td>\n",
       "      <td>9978</td>\n",
       "      <td>Pave</td>\n",
       "      <td>NaN</td>\n",
       "      <td>IR1</td>\n",
       "      <td>Lvl</td>\n",
       "      <td>AllPub</td>\n",
       "      <td>...</td>\n",
       "      <td>0</td>\n",
       "      <td>0</td>\n",
       "      <td>NaN</td>\n",
       "      <td>NaN</td>\n",
       "      <td>NaN</td>\n",
       "      <td>0</td>\n",
       "      <td>6</td>\n",
       "      <td>2010</td>\n",
       "      <td>WD</td>\n",
       "      <td>Normal</td>\n",
       "    </tr>\n",
       "    <tr>\n",
       "      <th>4</th>\n",
       "      <td>1465</td>\n",
       "      <td>120</td>\n",
       "      <td>RL</td>\n",
       "      <td>43.0</td>\n",
       "      <td>5005</td>\n",
       "      <td>Pave</td>\n",
       "      <td>NaN</td>\n",
       "      <td>IR1</td>\n",
       "      <td>HLS</td>\n",
       "      <td>AllPub</td>\n",
       "      <td>...</td>\n",
       "      <td>144</td>\n",
       "      <td>0</td>\n",
       "      <td>NaN</td>\n",
       "      <td>NaN</td>\n",
       "      <td>NaN</td>\n",
       "      <td>0</td>\n",
       "      <td>1</td>\n",
       "      <td>2010</td>\n",
       "      <td>WD</td>\n",
       "      <td>Normal</td>\n",
       "    </tr>\n",
       "  </tbody>\n",
       "</table>\n",
       "<p>5 rows × 80 columns</p>\n",
       "</div>"
      ],
      "text/plain": [
       "     Id  MSSubClass MSZoning  LotFrontage  LotArea Street Alley LotShape  \\\n",
       "0  1461          20       RH         80.0    11622   Pave   NaN      Reg   \n",
       "1  1462          20       RL         81.0    14267   Pave   NaN      IR1   \n",
       "2  1463          60       RL         74.0    13830   Pave   NaN      IR1   \n",
       "3  1464          60       RL         78.0     9978   Pave   NaN      IR1   \n",
       "4  1465         120       RL         43.0     5005   Pave   NaN      IR1   \n",
       "\n",
       "  LandContour Utilities  ... ScreenPorch PoolArea PoolQC  Fence MiscFeature  \\\n",
       "0         Lvl    AllPub  ...         120        0    NaN  MnPrv         NaN   \n",
       "1         Lvl    AllPub  ...           0        0    NaN    NaN        Gar2   \n",
       "2         Lvl    AllPub  ...           0        0    NaN  MnPrv         NaN   \n",
       "3         Lvl    AllPub  ...           0        0    NaN    NaN         NaN   \n",
       "4         HLS    AllPub  ...         144        0    NaN    NaN         NaN   \n",
       "\n",
       "  MiscVal MoSold  YrSold  SaleType  SaleCondition  \n",
       "0       0      6    2010        WD         Normal  \n",
       "1   12500      6    2010        WD         Normal  \n",
       "2       0      3    2010        WD         Normal  \n",
       "3       0      6    2010        WD         Normal  \n",
       "4       0      1    2010        WD         Normal  \n",
       "\n",
       "[5 rows x 80 columns]"
      ]
     },
     "execution_count": 7,
     "metadata": {},
     "output_type": "execute_result"
    }
   ],
   "source": [
    "test.head()"
   ]
  },
  {
   "cell_type": "markdown",
   "metadata": {},
   "source": [
    "## Training with one feature - LotArea"
   ]
  },
  {
   "cell_type": "code",
   "execution_count": 8,
   "metadata": {
    "scrolled": true
   },
   "outputs": [],
   "source": [
    "X = train['LotArea'].values.reshape(-1,1)\n",
    "y = train['SalePrice'].values.reshape(-1,1)"
   ]
  },
  {
   "cell_type": "code",
   "execution_count": 9,
   "metadata": {},
   "outputs": [],
   "source": [
    "# Standardize the dataset\n",
    "scaler_X = StandardScaler()\n",
    "scaler_y = StandardScaler()\n",
    "\n",
    "X = scaler_X.fit_transform(X)\n",
    "y = scaler_y.fit_transform(y)"
   ]
  },
  {
   "cell_type": "code",
   "execution_count": 10,
   "metadata": {},
   "outputs": [],
   "source": [
    "# Split into training and test sets\n",
    "X_train, X_test, y_train, y_test = train_test_split(X, y, test_size=0.3, random_state=42)"
   ]
  },
  {
   "cell_type": "code",
   "execution_count": 11,
   "metadata": {},
   "outputs": [],
   "source": [
    "# Initialize the NeuralNet class\n",
    "eta = 0.001\n",
    "n_iter = 200\n",
    "layer_sizes = [X_train.shape[1], 64, 32, 1]  # Example layer sizes\n",
    "neural_net = NeuralNet(X_train, y_train, layer_sizes, eta=eta, n_iter=n_iter, initialization_method='he', lambd=0.01)"
   ]
  },
  {
   "cell_type": "code",
   "execution_count": 12,
   "metadata": {
    "scrolled": true
   },
   "outputs": [
    {
     "name": "stdout",
     "output_type": "stream",
     "text": [
      "Epoch 1/200, Batch 1/31, Loss: 1.1236525532192871\n",
      "Epoch 1/200, Batch 11/31, Loss: 0.7551108153487927\n",
      "Epoch 1/200, Batch 21/31, Loss: 1.0142541994876675\n",
      "Epoch 1/200, Batch 31/31, Loss: 0.9288424483837106\n",
      "Epoch 2/200, Batch 1/31, Loss: 1.20890246350186\n",
      "Epoch 2/200, Batch 11/31, Loss: 1.261764466158695\n",
      "Epoch 2/200, Batch 21/31, Loss: 0.8520913420512664\n",
      "Epoch 2/200, Batch 31/31, Loss: 0.81863100279821\n",
      "Epoch 3/200, Batch 1/31, Loss: 0.49101269711680984\n",
      "Epoch 3/200, Batch 11/31, Loss: 0.43372187069539925\n",
      "Epoch 3/200, Batch 21/31, Loss: 0.8436334476221342\n",
      "Epoch 3/200, Batch 31/31, Loss: 1.4556399568002842\n",
      "Epoch 4/200, Batch 1/31, Loss: 0.8116352080601743\n",
      "Epoch 4/200, Batch 11/31, Loss: 0.7159660881796901\n",
      "Epoch 4/200, Batch 21/31, Loss: 1.087317063572634\n",
      "Epoch 4/200, Batch 31/31, Loss: 0.5910710245117957\n",
      "Epoch 5/200, Batch 1/31, Loss: 0.5884573275442522\n",
      "Epoch 5/200, Batch 11/31, Loss: 1.009153223799797\n",
      "Epoch 5/200, Batch 21/31, Loss: 0.7892766400691883\n",
      "Epoch 5/200, Batch 31/31, Loss: 0.7984178423369438\n",
      "Epoch 6/200, Batch 1/31, Loss: 2.8615424195783556\n",
      "Epoch 6/200, Batch 11/31, Loss: 0.9876133089588022\n",
      "Epoch 6/200, Batch 21/31, Loss: 0.5138789273163678\n",
      "Epoch 6/200, Batch 31/31, Loss: 0.3912149571469926\n",
      "Epoch 7/200, Batch 1/31, Loss: 0.5286196047414162\n",
      "Epoch 7/200, Batch 11/31, Loss: 0.9786056707978238\n",
      "Epoch 7/200, Batch 21/31, Loss: 1.819229696882698\n",
      "Epoch 7/200, Batch 31/31, Loss: 0.8940002153564658\n",
      "Epoch 8/200, Batch 1/31, Loss: 1.1806597523580042\n",
      "Epoch 8/200, Batch 11/31, Loss: 1.4739587148849187\n",
      "Epoch 8/200, Batch 21/31, Loss: 0.5184624801857617\n",
      "Epoch 8/200, Batch 31/31, Loss: 0.4294570181262939\n",
      "Epoch 9/200, Batch 1/31, Loss: 0.775079146679189\n",
      "Epoch 9/200, Batch 11/31, Loss: 1.2732577833551622\n",
      "Epoch 9/200, Batch 21/31, Loss: 0.3722627042555449\n",
      "Epoch 9/200, Batch 31/31, Loss: 0.8824579301408101\n",
      "Epoch 10/200, Batch 1/31, Loss: 1.0153620154590028\n",
      "Epoch 10/200, Batch 11/31, Loss: 0.5311160139305096\n",
      "Epoch 10/200, Batch 21/31, Loss: 0.5535343684129894\n",
      "Epoch 10/200, Batch 31/31, Loss: 0.47878354501117903\n",
      "Epoch 11/200, Batch 1/31, Loss: 0.9124547174880192\n",
      "Epoch 11/200, Batch 11/31, Loss: 1.073390297596865\n",
      "Epoch 11/200, Batch 21/31, Loss: 2.085383798617423\n",
      "Epoch 11/200, Batch 31/31, Loss: 0.8389873287100276\n",
      "Epoch 12/200, Batch 1/31, Loss: 1.2162780329402634\n",
      "Epoch 12/200, Batch 11/31, Loss: 0.7803650774050108\n",
      "Epoch 12/200, Batch 21/31, Loss: 0.7142561707325195\n",
      "Epoch 12/200, Batch 31/31, Loss: 0.5207723775059255\n",
      "Epoch 13/200, Batch 1/31, Loss: 0.5963558801340181\n",
      "Epoch 13/200, Batch 11/31, Loss: 0.5038650457493719\n",
      "Epoch 13/200, Batch 21/31, Loss: 1.2106431742000143\n",
      "Epoch 13/200, Batch 31/31, Loss: 0.3132726701542949\n",
      "Epoch 14/200, Batch 1/31, Loss: 1.1399417498806526\n",
      "Epoch 14/200, Batch 11/31, Loss: 0.7236542063621616\n",
      "Epoch 14/200, Batch 21/31, Loss: 0.42200417333056794\n",
      "Epoch 14/200, Batch 31/31, Loss: 1.416882986280379\n",
      "Epoch 15/200, Batch 1/31, Loss: 0.4433137958267479\n",
      "Epoch 15/200, Batch 11/31, Loss: 1.1501819843522219\n",
      "Epoch 15/200, Batch 21/31, Loss: 0.5127303041434768\n",
      "Epoch 15/200, Batch 31/31, Loss: 0.352348029211396\n",
      "Epoch 16/200, Batch 1/31, Loss: 0.656928881519204\n",
      "Epoch 16/200, Batch 11/31, Loss: 1.034011149945465\n",
      "Epoch 16/200, Batch 21/31, Loss: 0.7835619695805538\n",
      "Epoch 16/200, Batch 31/31, Loss: 1.2631941124474109\n",
      "Epoch 17/200, Batch 1/31, Loss: 0.7354360065433465\n",
      "Epoch 17/200, Batch 11/31, Loss: 1.2034471206750088\n",
      "Epoch 17/200, Batch 21/31, Loss: 0.6175742025125237\n",
      "Epoch 17/200, Batch 31/31, Loss: 1.1618773810605254\n",
      "Epoch 18/200, Batch 1/31, Loss: 0.7144484255979777\n",
      "Epoch 18/200, Batch 11/31, Loss: 0.8859232850539731\n",
      "Epoch 18/200, Batch 21/31, Loss: 0.8868907269721814\n",
      "Epoch 18/200, Batch 31/31, Loss: 0.8527317807486505\n",
      "Epoch 19/200, Batch 1/31, Loss: 0.9179055969393886\n",
      "Epoch 19/200, Batch 11/31, Loss: 0.6849961604976409\n",
      "Epoch 19/200, Batch 21/31, Loss: 0.749343376783163\n",
      "Epoch 19/200, Batch 31/31, Loss: 0.674456520600318\n",
      "Epoch 20/200, Batch 1/31, Loss: 0.8723556554775566\n",
      "Epoch 20/200, Batch 11/31, Loss: 0.5794927745101783\n",
      "Epoch 20/200, Batch 21/31, Loss: 0.7949138436077492\n",
      "Epoch 20/200, Batch 31/31, Loss: 0.9318288549697251\n",
      "Epoch 21/200, Batch 1/31, Loss: 0.6742909471131622\n",
      "Epoch 21/200, Batch 11/31, Loss: 0.8130331310341685\n",
      "Epoch 21/200, Batch 21/31, Loss: 0.7936767551643116\n",
      "Epoch 21/200, Batch 31/31, Loss: 0.7465907569495884\n",
      "Epoch 22/200, Batch 1/31, Loss: 1.6267473588954577\n",
      "Epoch 22/200, Batch 11/31, Loss: 0.8905108911973667\n",
      "Epoch 22/200, Batch 21/31, Loss: 1.0357183192477364\n",
      "Epoch 22/200, Batch 31/31, Loss: 1.302737247116026\n",
      "Epoch 23/200, Batch 1/31, Loss: 0.6600480913674945\n",
      "Epoch 23/200, Batch 11/31, Loss: 0.8806864716653737\n",
      "Epoch 23/200, Batch 21/31, Loss: 0.7636636295415125\n",
      "Epoch 23/200, Batch 31/31, Loss: 0.8505318135178968\n",
      "Early stopping at epoch 23\n"
     ]
    }
   ],
   "source": [
    "# Train the neural network\n",
    "neural_net.train(batch_size=32)"
   ]
  },
  {
   "cell_type": "code",
   "execution_count": 13,
   "metadata": {},
   "outputs": [],
   "source": [
    "# Evaluate the neural network on the test set\n",
    "predictions = neural_net.predict(X_test)\n",
    "predictions = scaler_y.inverse_transform(predictions)  # Reverse scaling\n",
    "y_test_orig = scaler_y.inverse_transform(y_test)  # Reverse scaling"
   ]
  },
  {
   "cell_type": "code",
   "execution_count": 14,
   "metadata": {},
   "outputs": [
    {
     "data": {
      "text/plain": [
       "(array([179719.54116548]), array([154500.]))"
      ]
     },
     "execution_count": 14,
     "metadata": {},
     "output_type": "execute_result"
    }
   ],
   "source": [
    "predictions[0], y_test_orig[0]"
   ]
  },
  {
   "cell_type": "code",
   "execution_count": 15,
   "metadata": {},
   "outputs": [
    {
     "name": "stdout",
     "output_type": "stream",
     "text": [
      "Test Loss: 1.0637729284532875\n"
     ]
    }
   ],
   "source": [
    "# Evaluate the neural network on the test set\n",
    "test_loss = neural_net.evaluate(X_test, y_test)\n",
    "print(f\"Test Loss: {test_loss}\")"
   ]
  },
  {
   "cell_type": "code",
   "execution_count": 16,
   "metadata": {},
   "outputs": [
    {
     "data": {
      "image/png": "[encoded data removed]",
      "text/plain": [
       "<Figure size 720x432 with 1 Axes>"
      ]
     },
     "metadata": {
      "needs_background": "light"
     },
     "output_type": "display_data"
    }
   ],
   "source": [
    "# Visualize learning curves\n",
    "neural_net.visualize_learning_curves()"
   ]
  },
  {
   "cell_type": "markdown",
   "metadata": {},
   "source": [
    "## Training with multiple features"
   ]
  },
  {
   "cell_type": "code",
   "execution_count": 17,
   "metadata": {},
   "outputs": [
    {
     "name": "stdout",
     "output_type": "stream",
     "text": [
      "(1460, 2)\n"
     ]
    }
   ],
   "source": [
    "# Select the 'LotArea' and 'GrLivArea' columns\n",
    "selected_features = train[['LotArea', 'GrLivArea']].values\n",
    "\n",
    "# Convert the selected features to a NumPy array\n",
    "X = selected_features\n",
    "\n",
    "# Print the shape of X_train to verify\n",
    "print(X.shape)"
   ]
  },
  {
   "cell_type": "code",
   "execution_count": 18,
   "metadata": {},
   "outputs": [
    {
     "name": "stdout",
     "output_type": "stream",
     "text": [
      "(1460, 1)\n"
     ]
    }
   ],
   "source": [
    "# Extract the target variable 'SalePrice'\n",
    "y = train['SalePrice'].values.reshape(-1,1)\n",
    "\n",
    "# Print the shape of y_train to verify\n",
    "print(y.shape)"
   ]
  },
  {
   "cell_type": "code",
   "execution_count": 19,
   "metadata": {},
   "outputs": [],
   "source": [
    "# Standardize the dataset\n",
    "scaler_two_X = StandardScaler()\n",
    "scaler_two_y = StandardScaler()\n",
    "\n",
    "X = scaler_two_X.fit_transform(X)\n",
    "y = scaler_two_y.fit_transform(y)"
   ]
  },
  {
   "cell_type": "code",
   "execution_count": 20,
   "metadata": {},
   "outputs": [],
   "source": [
    "# Split into training and test sets\n",
    "X_train_two, X_test_two, y_train_two, y_test_two = train_test_split(X, y, test_size=0.3, random_state=42)"
   ]
  },
  {
   "cell_type": "code",
   "execution_count": 21,
   "metadata": {},
   "outputs": [],
   "source": [
    "# Initialize the NeuralNet class\n",
    "eta = 0.001\n",
    "n_iter = 200\n",
    "layer_sizes = [X_train_two.shape[1], 64, 32, 1]  # Example layer sizes\n",
    "neural_net = NeuralNet(X_train_two, y_train_two, layer_sizes, eta=eta, n_iter=n_iter, initialization_method='he', lambd=0.01)"
   ]
  },
  {
   "cell_type": "code",
   "execution_count": 22,
   "metadata": {},
   "outputs": [
    {
     "name": "stdout",
     "output_type": "stream",
     "text": [
      "Epoch 1/200, Batch 1/31, Loss: 0.2139112036292095\n",
      "Epoch 1/200, Batch 11/31, Loss: 0.3219623841343355\n",
      "Epoch 1/200, Batch 21/31, Loss: 0.7071805956896516\n",
      "Epoch 1/200, Batch 31/31, Loss: 0.3466337067158313\n",
      "Epoch 2/200, Batch 1/31, Loss: 0.5681935550762559\n",
      "Epoch 2/200, Batch 11/31, Loss: 0.5115615483336777\n",
      "Epoch 2/200, Batch 21/31, Loss: 1.3695523629239876\n",
      "Epoch 2/200, Batch 31/31, Loss: 0.759692185643483\n",
      "Epoch 3/200, Batch 1/31, Loss: 0.31739223343616396\n",
      "Epoch 3/200, Batch 11/31, Loss: 0.4470205080405717\n",
      "Epoch 3/200, Batch 21/31, Loss: 0.3390978151466778\n",
      "Epoch 3/200, Batch 31/31, Loss: 1.065622192110106\n",
      "Epoch 4/200, Batch 1/31, Loss: 1.1056896044204036\n",
      "Epoch 4/200, Batch 11/31, Loss: 0.4665509834041477\n",
      "Epoch 4/200, Batch 21/31, Loss: 0.7592452776262314\n",
      "Epoch 4/200, Batch 31/31, Loss: 0.7637753538144396\n",
      "Epoch 5/200, Batch 1/31, Loss: 0.5541239099700708\n",
      "Epoch 5/200, Batch 11/31, Loss: 0.905924977740788\n",
      "Epoch 5/200, Batch 21/31, Loss: 1.1254531032615607\n",
      "Epoch 5/200, Batch 31/31, Loss: 0.978952351504655\n",
      "Epoch 6/200, Batch 1/31, Loss: 0.3121578918078357\n",
      "Epoch 6/200, Batch 11/31, Loss: 0.4925993050281038\n",
      "Epoch 6/200, Batch 21/31, Loss: 0.899355782955036\n",
      "Epoch 6/200, Batch 31/31, Loss: 0.4141173324696051\n",
      "Epoch 7/200, Batch 1/31, Loss: 0.28094732582800336\n",
      "Epoch 7/200, Batch 11/31, Loss: 0.2751818207201381\n",
      "Epoch 7/200, Batch 21/31, Loss: 0.5523700999251551\n",
      "Epoch 7/200, Batch 31/31, Loss: 1.134033571922489\n",
      "Epoch 8/200, Batch 1/31, Loss: 0.43597316644233336\n",
      "Epoch 8/200, Batch 11/31, Loss: 0.6471986217557875\n",
      "Epoch 8/200, Batch 21/31, Loss: 1.1837003002252695\n",
      "Epoch 8/200, Batch 31/31, Loss: 0.6318326626334052\n",
      "Epoch 9/200, Batch 1/31, Loss: 1.3819671581964645\n",
      "Epoch 9/200, Batch 11/31, Loss: 1.1981808376995948\n",
      "Epoch 9/200, Batch 21/31, Loss: 0.28467548707812007\n",
      "Epoch 9/200, Batch 31/31, Loss: 0.687046723060648\n",
      "Epoch 10/200, Batch 1/31, Loss: 0.5968496186940888\n",
      "Epoch 10/200, Batch 11/31, Loss: 0.47614633758138003\n",
      "Epoch 10/200, Batch 21/31, Loss: 0.3890729107791776\n",
      "Epoch 10/200, Batch 31/31, Loss: 0.4745481741332144\n",
      "Epoch 11/200, Batch 1/31, Loss: 0.6631472778336994\n",
      "Epoch 11/200, Batch 11/31, Loss: 0.6459014491540536\n",
      "Epoch 11/200, Batch 21/31, Loss: 0.442181220550555\n",
      "Epoch 11/200, Batch 31/31, Loss: 0.778338684087647\n",
      "Epoch 12/200, Batch 1/31, Loss: 0.3112128257611409\n",
      "Epoch 12/200, Batch 11/31, Loss: 0.6119147271167924\n",
      "Epoch 12/200, Batch 21/31, Loss: 0.592810217332823\n",
      "Epoch 12/200, Batch 31/31, Loss: 0.6342288057035488\n",
      "Epoch 13/200, Batch 1/31, Loss: 1.660462851867349\n",
      "Epoch 13/200, Batch 11/31, Loss: 1.1397318428231764\n",
      "Epoch 13/200, Batch 21/31, Loss: 0.7002552566102975\n",
      "Epoch 13/200, Batch 31/31, Loss: 0.7434934963763409\n",
      "Epoch 14/200, Batch 1/31, Loss: 0.25678226895090855\n",
      "Epoch 14/200, Batch 11/31, Loss: 0.5927246179902423\n",
      "Epoch 14/200, Batch 21/31, Loss: 0.5386936233211875\n",
      "Epoch 14/200, Batch 31/31, Loss: 0.4832223811944145\n",
      "Early stopping at epoch 14\n"
     ]
    }
   ],
   "source": [
    "# Train the neural network\n",
    "neural_net.train(batch_size=32)"
   ]
  },
  {
   "cell_type": "code",
   "execution_count": 23,
   "metadata": {},
   "outputs": [],
   "source": [
    "# Evaluate the neural network on the test set\n",
    "predictions = neural_net.predict(X_test_two)\n",
    "predictions = scaler_two_y.inverse_transform(predictions)  # Reverse scaling\n",
    "y_test_orig = scaler_two_y.inverse_transform(y_test_two)  # Reverse scaling"
   ]
  },
  {
   "cell_type": "code",
   "execution_count": 24,
   "metadata": {},
   "outputs": [
    {
     "data": {
      "text/plain": [
       "(array([159585.13269271]), array([154500.]))"
      ]
     },
     "execution_count": 24,
     "metadata": {},
     "output_type": "execute_result"
    }
   ],
   "source": [
    "predictions[0], y_test_orig[0]"
   ]
  },
  {
   "cell_type": "code",
   "execution_count": 25,
   "metadata": {},
   "outputs": [
    {
     "data": {
      "image/png": "[encoded data removed]",
      "text/plain": [
       "<Figure size 720x432 with 1 Axes>"
      ]
     },
     "metadata": {
      "needs_background": "light"
     },
     "output_type": "display_data"
    }
   ],
   "source": [
    "# Visualize learning curves\n",
    "neural_net.visualize_learning_curves()"
   ]
  },
  {
   "cell_type": "markdown",
   "metadata": {},
   "source": [
    "## Identifying feature importance"
   ]
  },
  {
   "cell_type": "code",
   "execution_count": 26,
   "metadata": {},
   "outputs": [
    {
     "name": "stdout",
     "output_type": "stream",
     "text": [
      "SalePrice        1.000000\n",
      "OverallQual      0.790982\n",
      "GrLivArea        0.708624\n",
      "GarageCars       0.640409\n",
      "GarageArea       0.623431\n",
      "TotalBsmtSF      0.613581\n",
      "1stFlrSF         0.605852\n",
      "FullBath         0.560664\n",
      "TotRmsAbvGrd     0.533723\n",
      "YearBuilt        0.522897\n",
      "YearRemodAdd     0.507101\n",
      "GarageYrBlt      0.486362\n",
      "MasVnrArea       0.477493\n",
      "Fireplaces       0.466929\n",
      "BsmtFinSF1       0.386420\n",
      "LotFrontage      0.351799\n",
      "WoodDeckSF       0.324413\n",
      "2ndFlrSF         0.319334\n",
      "OpenPorchSF      0.315856\n",
      "HalfBath         0.284108\n",
      "LotArea          0.263843\n",
      "BsmtFullBath     0.227122\n",
      "BsmtUnfSF        0.214479\n",
      "BedroomAbvGr     0.168213\n",
      "ScreenPorch      0.111447\n",
      "PoolArea         0.092404\n",
      "MoSold           0.046432\n",
      "3SsnPorch        0.044584\n",
      "BsmtFinSF2      -0.011378\n",
      "BsmtHalfBath    -0.016844\n",
      "MiscVal         -0.021190\n",
      "Id              -0.021917\n",
      "LowQualFinSF    -0.025606\n",
      "YrSold          -0.028923\n",
      "OverallCond     -0.077856\n",
      "MSSubClass      -0.084284\n",
      "EnclosedPorch   -0.128578\n",
      "KitchenAbvGr    -0.135907\n",
      "Name: SalePrice, dtype: float64\n"
     ]
    }
   ],
   "source": [
    "df = pd.read_csv('train.csv')\n",
    "numeric_df = df.select_dtypes(include=['number'])\n",
    "correlation_matrix = numeric_df.corr()\n",
    "feature_target_corr = correlation_matrix['SalePrice'].sort_values(ascending=False)\n",
    "print(feature_target_corr)"
   ]
  },
  {
   "cell_type": "code",
   "execution_count": 27,
   "metadata": {},
   "outputs": [],
   "source": [
    "X = df[['GrLivArea', 'GarageArea', 'TotalBsmtSF', '1stFlrSF']].values\n",
    "y = df['SalePrice'].values.reshape(-1,1)"
   ]
  },
  {
   "cell_type": "code",
   "execution_count": 28,
   "metadata": {},
   "outputs": [],
   "source": [
    "X_scaled = StandardScaler()\n",
    "y_scaled = StandardScaler()\n",
    "\n",
    "X = X_scaled.fit_transform(X)\n",
    "y = y_scaled.fit_transform(y)"
   ]
  },
  {
   "cell_type": "code",
   "execution_count": 29,
   "metadata": {},
   "outputs": [],
   "source": [
    "X_train, X_test, y_train, y_test = train_test_split(X, y, test_size=0.3, random_state=42)"
   ]
  },
  {
   "cell_type": "code",
   "execution_count": 30,
   "metadata": {},
   "outputs": [],
   "source": [
    "# Initialize the NeuralNet class\n",
    "eta = 0.001\n",
    "n_iter = 200\n",
    "layer_sizes = [X_train.shape[1], 64, 32, 1]  # Example layer sizes\n",
    "neural_net = NeuralNet(X_train, y_train, layer_sizes, eta=eta, n_iter=n_iter, initialization_method='he', lambd=0.01)"
   ]
  },
  {
   "cell_type": "code",
   "execution_count": 31,
   "metadata": {},
   "outputs": [
    {
     "name": "stdout",
     "output_type": "stream",
     "text": [
      "Epoch 1/200, Batch 1/31, Loss: 1.5781428669297348\n",
      "Epoch 1/200, Batch 11/31, Loss: 2.0070649552079862\n",
      "Epoch 1/200, Batch 21/31, Loss: 1.7667408212300186\n",
      "Epoch 1/200, Batch 31/31, Loss: 1.3497985667774373\n",
      "Epoch 2/200, Batch 1/31, Loss: 1.1418131238643698\n",
      "Epoch 2/200, Batch 11/31, Loss: 1.4783114718005055\n",
      "Epoch 2/200, Batch 21/31, Loss: 1.1297813087551203\n",
      "Epoch 2/200, Batch 31/31, Loss: 1.8553227820479368\n",
      "Epoch 3/200, Batch 1/31, Loss: 1.1502075274185222\n",
      "Epoch 3/200, Batch 11/31, Loss: 0.9511073734544226\n",
      "Epoch 3/200, Batch 21/31, Loss: 0.5942814774943759\n",
      "Epoch 3/200, Batch 31/31, Loss: 0.7776011032889247\n",
      "Epoch 4/200, Batch 1/31, Loss: 1.0298127244451951\n",
      "Epoch 4/200, Batch 11/31, Loss: 0.8129289417650031\n",
      "Epoch 4/200, Batch 21/31, Loss: 0.7334233776995769\n",
      "Epoch 4/200, Batch 31/31, Loss: 1.1382903332664118\n",
      "Epoch 5/200, Batch 1/31, Loss: 1.941250866730193\n",
      "Epoch 5/200, Batch 11/31, Loss: 0.7992116439932304\n",
      "Epoch 5/200, Batch 21/31, Loss: 0.8291685651464533\n",
      "Epoch 5/200, Batch 31/31, Loss: 0.5437117593580976\n",
      "Epoch 6/200, Batch 1/31, Loss: 1.2210915720237445\n",
      "Epoch 6/200, Batch 11/31, Loss: 0.885757400815564\n",
      "Epoch 6/200, Batch 21/31, Loss: 1.005183875935593\n",
      "Epoch 6/200, Batch 31/31, Loss: 0.8417625195445729\n",
      "Epoch 7/200, Batch 1/31, Loss: 0.6707136614335651\n",
      "Epoch 7/200, Batch 11/31, Loss: 2.078119663551685\n",
      "Epoch 7/200, Batch 21/31, Loss: 0.8774176674350496\n",
      "Epoch 7/200, Batch 31/31, Loss: 1.663472678273672\n",
      "Epoch 8/200, Batch 1/31, Loss: 0.602088521249328\n",
      "Epoch 8/200, Batch 11/31, Loss: 0.6577251839180374\n",
      "Epoch 8/200, Batch 21/31, Loss: 0.6918927034395344\n",
      "Epoch 8/200, Batch 31/31, Loss: 0.47223887275124865\n",
      "Epoch 9/200, Batch 1/31, Loss: 0.8500825624731524\n",
      "Epoch 9/200, Batch 11/31, Loss: 0.9105686759864335\n",
      "Epoch 9/200, Batch 21/31, Loss: 1.5068436205992999\n",
      "Epoch 9/200, Batch 31/31, Loss: 0.3399884072436078\n",
      "Epoch 10/200, Batch 1/31, Loss: 1.2634649793299515\n",
      "Epoch 10/200, Batch 11/31, Loss: 0.7549970614614742\n",
      "Epoch 10/200, Batch 21/31, Loss: 0.6701594838663476\n",
      "Epoch 10/200, Batch 31/31, Loss: 0.6177071347000687\n",
      "Epoch 11/200, Batch 1/31, Loss: 0.9623343772094209\n",
      "Epoch 11/200, Batch 11/31, Loss: 0.9049471223350244\n",
      "Epoch 11/200, Batch 21/31, Loss: 2.0861160582580394\n",
      "Epoch 11/200, Batch 31/31, Loss: 0.5408042671266131\n",
      "Epoch 12/200, Batch 1/31, Loss: 1.0384089716605116\n",
      "Epoch 12/200, Batch 11/31, Loss: 1.8122155847878323\n",
      "Epoch 12/200, Batch 21/31, Loss: 0.5133212293569004\n",
      "Epoch 12/200, Batch 31/31, Loss: 0.9345865949221961\n",
      "Epoch 13/200, Batch 1/31, Loss: 0.534179654017281\n",
      "Epoch 13/200, Batch 11/31, Loss: 0.3245198204445878\n",
      "Epoch 13/200, Batch 21/31, Loss: 0.7147343598636777\n",
      "Epoch 13/200, Batch 31/31, Loss: 0.4991956164069331\n",
      "Epoch 14/200, Batch 1/31, Loss: 0.9223497849730453\n",
      "Epoch 14/200, Batch 11/31, Loss: 0.8419173138894418\n",
      "Epoch 14/200, Batch 21/31, Loss: 0.5173011161956028\n",
      "Epoch 14/200, Batch 31/31, Loss: 0.37917297499149033\n",
      "Epoch 15/200, Batch 1/31, Loss: 0.38285101883746053\n",
      "Epoch 15/200, Batch 11/31, Loss: 1.069206405992829\n",
      "Epoch 15/200, Batch 21/31, Loss: 1.2261915079229184\n",
      "Epoch 15/200, Batch 31/31, Loss: 0.6070220519788745\n",
      "Epoch 16/200, Batch 1/31, Loss: 0.7728573443009501\n",
      "Epoch 16/200, Batch 11/31, Loss: 0.42168223842307095\n",
      "Epoch 16/200, Batch 21/31, Loss: 0.7465083766094891\n",
      "Epoch 16/200, Batch 31/31, Loss: 0.6146153750824053\n",
      "Epoch 17/200, Batch 1/31, Loss: 0.509419526057087\n",
      "Epoch 17/200, Batch 11/31, Loss: 0.4491603547073439\n",
      "Epoch 17/200, Batch 21/31, Loss: 1.8472928940306323\n",
      "Epoch 17/200, Batch 31/31, Loss: 0.5227861231125537\n",
      "Epoch 18/200, Batch 1/31, Loss: 0.7118715944675271\n",
      "Epoch 18/200, Batch 11/31, Loss: 1.217387608745319\n",
      "Epoch 18/200, Batch 21/31, Loss: 1.2567983881109706\n",
      "Epoch 18/200, Batch 31/31, Loss: 0.4223991745682689\n",
      "Epoch 19/200, Batch 1/31, Loss: 0.4557121846357066\n",
      "Epoch 19/200, Batch 11/31, Loss: 0.5341801468687613\n",
      "Epoch 19/200, Batch 21/31, Loss: 0.4706271676147421\n",
      "Epoch 19/200, Batch 31/31, Loss: 0.612974078830033\n",
      "Epoch 20/200, Batch 1/31, Loss: 0.6826935876539768\n",
      "Epoch 20/200, Batch 11/31, Loss: 1.5281408635411304\n",
      "Epoch 20/200, Batch 21/31, Loss: 0.45258673038341285\n",
      "Epoch 20/200, Batch 31/31, Loss: 0.560629782659742\n",
      "Epoch 21/200, Batch 1/31, Loss: 0.5598909655996116\n",
      "Epoch 21/200, Batch 11/31, Loss: 1.0487435976266282\n",
      "Epoch 21/200, Batch 21/31, Loss: 0.6836580514472292\n",
      "Epoch 21/200, Batch 31/31, Loss: 0.9098745774116859\n",
      "Epoch 22/200, Batch 1/31, Loss: 0.7488121253839477\n",
      "Epoch 22/200, Batch 11/31, Loss: 0.8775993107965538\n",
      "Epoch 22/200, Batch 21/31, Loss: 0.5104298143570181\n",
      "Epoch 22/200, Batch 31/31, Loss: 0.5654063783875962\n",
      "Epoch 23/200, Batch 1/31, Loss: 0.6775292621548873\n",
      "Epoch 23/200, Batch 11/31, Loss: 0.5753528441855493\n",
      "Epoch 23/200, Batch 21/31, Loss: 1.2901213276691563\n",
      "Epoch 23/200, Batch 31/31, Loss: 0.3768090155751477\n",
      "Epoch 24/200, Batch 1/31, Loss: 0.7174514625785288\n",
      "Epoch 24/200, Batch 11/31, Loss: 0.9706483874757355\n",
      "Epoch 24/200, Batch 21/31, Loss: 1.13390466354588\n",
      "Epoch 24/200, Batch 31/31, Loss: 1.0869753535575106\n",
      "Epoch 25/200, Batch 1/31, Loss: 0.6803397071690978\n",
      "Epoch 25/200, Batch 11/31, Loss: 0.7566743467321932\n",
      "Epoch 25/200, Batch 21/31, Loss: 0.8526174604608301\n",
      "Epoch 25/200, Batch 31/31, Loss: 0.9860943526745469\n",
      "Epoch 26/200, Batch 1/31, Loss: 1.0493667552994472\n",
      "Epoch 26/200, Batch 11/31, Loss: 0.4788912629315184\n",
      "Epoch 26/200, Batch 21/31, Loss: 1.160544672262652\n",
      "Epoch 26/200, Batch 31/31, Loss: 0.4436755494457983\n",
      "Epoch 27/200, Batch 1/31, Loss: 1.421319421951834\n",
      "Epoch 27/200, Batch 11/31, Loss: 0.488983244409777\n",
      "Epoch 27/200, Batch 21/31, Loss: 2.1305072719379305\n",
      "Epoch 27/200, Batch 31/31, Loss: 0.951010460045961\n",
      "Epoch 28/200, Batch 1/31, Loss: 0.8111556013219579\n",
      "Epoch 28/200, Batch 11/31, Loss: 0.5127338950043472\n",
      "Epoch 28/200, Batch 21/31, Loss: 0.44242776931302674\n",
      "Epoch 28/200, Batch 31/31, Loss: 0.9906011930642875\n",
      "Epoch 29/200, Batch 1/31, Loss: 0.789154561729817\n",
      "Epoch 29/200, Batch 11/31, Loss: 0.9012098550657699\n",
      "Epoch 29/200, Batch 21/31, Loss: 0.7475042887649127\n",
      "Epoch 29/200, Batch 31/31, Loss: 1.1273123134302847\n",
      "Epoch 30/200, Batch 1/31, Loss: 0.3822006248312054\n",
      "Epoch 30/200, Batch 11/31, Loss: 1.9194149107304028\n",
      "Epoch 30/200, Batch 21/31, Loss: 0.6232210297678971\n",
      "Epoch 30/200, Batch 31/31, Loss: 0.4414329750491353\n",
      "Epoch 31/200, Batch 1/31, Loss: 0.5372302984918621\n",
      "Epoch 31/200, Batch 11/31, Loss: 1.0472565074792821\n",
      "Epoch 31/200, Batch 21/31, Loss: 1.0116946525275996\n",
      "Epoch 31/200, Batch 31/31, Loss: 0.4087734323205343\n",
      "Epoch 32/200, Batch 1/31, Loss: 0.5504825638352314\n",
      "Epoch 32/200, Batch 11/31, Loss: 0.5664287869019227\n",
      "Epoch 32/200, Batch 21/31, Loss: 0.6930181380134584\n",
      "Epoch 32/200, Batch 31/31, Loss: 0.43980213179603383\n",
      "Epoch 33/200, Batch 1/31, Loss: 0.375360481686829\n",
      "Epoch 33/200, Batch 11/31, Loss: 0.6451316500999265\n",
      "Epoch 33/200, Batch 21/31, Loss: 1.2627379793629454\n",
      "Epoch 33/200, Batch 31/31, Loss: 0.5285494474712517\n",
      "Early stopping at epoch 33\n"
     ]
    }
   ],
   "source": [
    "# Train the neural network\n",
    "neural_net.train(batch_size=32)"
   ]
  },
  {
   "cell_type": "code",
   "execution_count": 32,
   "metadata": {},
   "outputs": [
    {
     "name": "stdout",
     "output_type": "stream",
     "text": [
      "Test Loss: 0.8679049048595537\n"
     ]
    }
   ],
   "source": [
    "# Evaluate the model\n",
    "test_loss = neural_net.evaluate(X_test, y_test)\n",
    "print(f\"Test Loss: {test_loss}\")"
   ]
  },
  {
   "cell_type": "code",
   "execution_count": 33,
   "metadata": {},
   "outputs": [],
   "source": [
    "# Evaluate the neural network on the test set\n",
    "predictions = neural_net.predict(X_test)\n",
    "predictions = y_scaled.inverse_transform(predictions)  # Reverse scaling\n",
    "y_test_orig = y_scaled.inverse_transform(y_test)  # Reverse scaling"
   ]
  },
  {
   "cell_type": "code",
   "execution_count": 34,
   "metadata": {},
   "outputs": [
    {
     "data": {
      "text/plain": [
       "(array([178479.56823333]), array([154500.]))"
      ]
     },
     "execution_count": 34,
     "metadata": {},
     "output_type": "execute_result"
    }
   ],
   "source": [
    "predictions[0], y_test_orig[0]"
   ]
  },
  {
   "cell_type": "code",
   "execution_count": 35,
   "metadata": {},
   "outputs": [
    {
     "data": {
      "image/png": "[encoded data removed]",
      "text/plain": [
       "<Figure size 720x432 with 1 Axes>"
      ]
     },
     "metadata": {
      "needs_background": "light"
     },
     "output_type": "display_data"
    }
   ],
   "source": [
    "# Visualize learning curves\n",
    "neural_net.visualize_learning_curves()"
   ]
  },
  {
   "cell_type": "code",
   "execution_count": null,
   "metadata": {},
   "outputs": [],
   "source": []
  }
 ],
 "metadata": {
  "kernelspec": {
   "display_name": "Python 3",
   "language": "python",
   "name": "python3"
  },
  "language_info": {
   "codemirror_mode": {
    "name": "ipython",
    "version": 3
   },
   "file_extension": ".py",
   "mimetype": "text/x-python",
   "name": "python",
   "nbconvert_exporter": "python",
   "pygments_lexer": "ipython3",
   "version": "3.8.3"
  }
 },
 "nbformat": 4,
 "nbformat_minor": 4
}
